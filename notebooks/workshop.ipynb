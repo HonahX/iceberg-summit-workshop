{
 "cells": [
  {
   "cell_type": "markdown",
   "metadata": {},
   "source": [
    "# Iceberg Workshop: Getting Started"
   ]
  },
  {
   "cell_type": "markdown",
   "metadata": {},
   "source": [
    "## Setup Catalog"
   ]
  },
  {
   "cell_type": "code",
   "execution_count": 1,
   "metadata": {
    "vscode": {
     "languageId": "plaintext"
    }
   },
   "outputs": [],
   "source": [
    "from pyiceberg.catalog import load_catalog\n",
    "\n",
    "catalog = load_catalog(\"default\")"
   ]
  },
  {
   "cell_type": "markdown",
   "metadata": {},
   "source": [
    "## Example Data\n",
    "\n",
    "| name    | id | date       |\n",
    "|---------|----|------------|\n",
    "| Alice   |  1 | 2018-04-02 |\n",
    "| Bob     |  2 | 2020-09-07 |\n",
    "| Charlie |  3 | 2022-07-01 |"
   ]
  },
  {
   "cell_type": "code",
   "execution_count": 2,
   "metadata": {},
   "outputs": [],
   "source": [
    "import pyarrow as pa\n",
    "\n",
    "example_schema = pa.schema(\n",
    "    [\n",
    "        (\"name\", pa.string()),\n",
    "        (\"id\", pa.int32()),\n",
    "        (\"date\", pa.date32()),\n",
    "    ]\n",
    ")\n",
    "\n",
    "example_data = pa.Table.from_pylist([\n",
    "    {\"name\": \"Alice\", \"id\": 1, \"date\": 17623},  # 2018-05-15\n",
    "    {\"name\": \"Bob\", \"id\": 2, \"date\": 18512},    # 2020-11-23\n",
    "    {\"name\": \"Charlie\", \"id\": 3, \"date\": 19174} # 2022-07-07\n",
    "], schema=example_schema)"
   ]
  },
  {
   "cell_type": "markdown",
   "metadata": {},
   "source": [
    "## Create an Iceberg table\n",
    "\n",
    "First, we'll create a namespace `demo_ns` to organize the Iceberg table, then define and create the table using the specified schema."
   ]
  },
  {
   "cell_type": "code",
   "execution_count": 3,
   "metadata": {},
   "outputs": [],
   "source": [
    "catalog.create_namespace_if_not_exists(\"demo_ns\")"
   ]
  },
  {
   "cell_type": "code",
   "execution_count": 4,
   "metadata": {},
   "outputs": [
    {
     "data": {
      "text/plain": [
       "demo_table_1(\n",
       "  1: name: optional string,\n",
       "  2: id: optional int,\n",
       "  3: date: optional date\n",
       "),\n",
       "partition by: [],\n",
       "sort order: [],\n",
       "snapshot: null"
      ]
     },
     "execution_count": 4,
     "metadata": {},
     "output_type": "execute_result"
    }
   ],
   "source": [
    "table = catalog.create_table_if_not_exists(\"demo_ns.demo_table_1\", schema=example_schema)\n",
    "table"
   ]
  },
  {
   "cell_type": "markdown",
   "metadata": {
    "jp-MarkdownHeadingCollapsed": true
   },
   "source": [
    "## What happens behind table creation?\n",
    "\n",
    "A metadata file has been created and registered as the latest metadata of table `demo_ns.demo_table_1`. Let's login to Minio Bucket and see the file:\n",
    "\n",
    "- Minio Url: http://localhost:9001/\n",
    "- username: admin\n",
    "- password: password\n",
    "\n",
    "The current bucket structure looks like the following\n",
    "\n",
    "```\n",
    "warehouse/\n",
    "└── demo_ns/\n",
    "    └── demo_table_1/\n",
    "        └── metadata/\n",
    "            └── <uuid>.metadata.json\n",
    "```"
   ]
  },
  {
   "cell_type": "markdown",
   "metadata": {},
   "source": [
    "# Add data to the table\n",
    "\n",
    "It will create a new snapshot on the table"
   ]
  },
  {
   "cell_type": "code",
   "execution_count": 5,
   "metadata": {},
   "outputs": [
    {
     "name": "stderr",
     "output_type": "stream",
     "text": [
      "/opt/conda/lib/python3.11/site-packages/pyiceberg/table/__init__.py:686: UserWarning: Delete operation did not match any records\n",
      "  warnings.warn(\"Delete operation did not match any records\")\n"
     ]
    },
    {
     "data": {
      "text/plain": [
       "demo_table_1(\n",
       "  1: name: optional string,\n",
       "  2: id: optional int,\n",
       "  3: date: optional date\n",
       "),\n",
       "partition by: [],\n",
       "sort order: [],\n",
       "snapshot: Operation.APPEND: id=7769616688498351098, schema_id=0"
      ]
     },
     "execution_count": 5,
     "metadata": {},
     "output_type": "execute_result"
    }
   ],
   "source": [
    "table.overwrite(example_data)\n",
    "table"
   ]
  },
  {
   "cell_type": "markdown",
   "metadata": {},
   "source": [
    "## Read the table\n",
    "\n",
    "We can see example data has been added to the table"
   ]
  },
  {
   "cell_type": "code",
   "execution_count": 6,
   "metadata": {},
   "outputs": [
    {
     "data": {
      "text/html": [
       "<div>\n",
       "<style scoped>\n",
       "    .dataframe tbody tr th:only-of-type {\n",
       "        vertical-align: middle;\n",
       "    }\n",
       "\n",
       "    .dataframe tbody tr th {\n",
       "        vertical-align: top;\n",
       "    }\n",
       "\n",
       "    .dataframe thead th {\n",
       "        text-align: right;\n",
       "    }\n",
       "</style>\n",
       "<table border=\"1\" class=\"dataframe\">\n",
       "  <thead>\n",
       "    <tr style=\"text-align: right;\">\n",
       "      <th></th>\n",
       "      <th>name</th>\n",
       "      <th>id</th>\n",
       "      <th>date</th>\n",
       "    </tr>\n",
       "  </thead>\n",
       "  <tbody>\n",
       "    <tr>\n",
       "      <th>0</th>\n",
       "      <td>Alice</td>\n",
       "      <td>1</td>\n",
       "      <td>2018-04-02</td>\n",
       "    </tr>\n",
       "    <tr>\n",
       "      <th>1</th>\n",
       "      <td>Bob</td>\n",
       "      <td>2</td>\n",
       "      <td>2020-09-07</td>\n",
       "    </tr>\n",
       "    <tr>\n",
       "      <th>2</th>\n",
       "      <td>Charlie</td>\n",
       "      <td>3</td>\n",
       "      <td>2022-07-01</td>\n",
       "    </tr>\n",
       "  </tbody>\n",
       "</table>\n",
       "</div>"
      ],
      "text/plain": [
       "      name  id        date\n",
       "0    Alice   1  2018-04-02\n",
       "1      Bob   2  2020-09-07\n",
       "2  Charlie   3  2022-07-01"
      ]
     },
     "execution_count": 6,
     "metadata": {},
     "output_type": "execute_result"
    }
   ],
   "source": [
    "table.scan().to_pandas()"
   ]
  },
  {
   "cell_type": "markdown",
   "metadata": {},
   "source": [
    "## What happens when adding data?\n",
    "\n",
    "The data has been written into a parquet file and a new snapshot has been created.\n",
    "\n",
    "```\n",
    "warehouse/\n",
    "└── demo_ns/\n",
    "    └── demo_table_1/\n",
    "        ├── metadata/\n",
    "        │   ├── <uuid>.metadata.json\n",
    "        │   ├── snap-<uuid>.avro\n",
    "        │   └── <uuid>-m0.avro\n",
    "        └── data/\n",
    "            └── <uuid>.parquet\n",
    "\n",
    "```"
   ]
  },
  {
   "cell_type": "markdown",
   "metadata": {},
   "source": [
    "## Table Evolution: Make table partitioned\n",
    "\n",
    "The table we just created is unpartitioned, but it's common practice to partition a table based on specific column(s). No worries—we can easily partition it!\n",
    "\n",
    "Iceberg allows you to update the partitioning strategy without having to recreate the table or migrate any data."
   ]
  },
  {
   "cell_type": "code",
   "execution_count": 7,
   "metadata": {},
   "outputs": [
    {
     "data": {
      "text/plain": [
       "demo_table_1(\n",
       "  1: name: optional string,\n",
       "  2: id: optional int,\n",
       "  3: date: optional date\n",
       "),\n",
       "partition by: [date_year],\n",
       "sort order: [],\n",
       "snapshot: Operation.APPEND: id=7769616688498351098, schema_id=0"
      ]
     },
     "execution_count": 7,
     "metadata": {},
     "output_type": "execute_result"
    }
   ],
   "source": [
    "from pyiceberg.transforms import YearTransform\n",
    "\n",
    "with table.update_spec() as update:\n",
    "   update.add_field(\"date\", YearTransform())\n",
    "\n",
    "table"
   ]
  },
  {
   "cell_type": "markdown",
   "metadata": {},
   "source": [
    "## Add more data to partitioned table\n",
    "\n",
    "New data will be written in to different partitions based on the partition strategy. In this demo, there will be 3 partitions\n",
    "\n",
    "- date_year=2018\n",
    "- date_year=2020\n",
    "- date_year=2022\n",
    "\n",
    "TODO: Add a preview of current file structure"
   ]
  },
  {
   "cell_type": "code",
   "execution_count": 8,
   "metadata": {},
   "outputs": [],
   "source": [
    "example_data_2 = pa.Table.from_pylist([\n",
    "    {\"name\": \"David\", \"id\": 4, \"date\": 17623},  # 2018-05-15\n",
    "    {\"name\": \"John\", \"id\": 5, \"date\": 18512},    # 2020-11-23\n",
    "    {\"name\": \"Jonas\", \"id\": 6, \"date\": 19174} # 2022-07-07\n",
    "], schema=example_schema)\n",
    "\n",
    "table.append(example_data_2)"
   ]
  },
  {
   "cell_type": "code",
   "execution_count": 9,
   "metadata": {},
   "outputs": [
    {
     "data": {
      "text/html": [
       "<div>\n",
       "<style scoped>\n",
       "    .dataframe tbody tr th:only-of-type {\n",
       "        vertical-align: middle;\n",
       "    }\n",
       "\n",
       "    .dataframe tbody tr th {\n",
       "        vertical-align: top;\n",
       "    }\n",
       "\n",
       "    .dataframe thead th {\n",
       "        text-align: right;\n",
       "    }\n",
       "</style>\n",
       "<table border=\"1\" class=\"dataframe\">\n",
       "  <thead>\n",
       "    <tr style=\"text-align: right;\">\n",
       "      <th></th>\n",
       "      <th>name</th>\n",
       "      <th>id</th>\n",
       "      <th>date</th>\n",
       "    </tr>\n",
       "  </thead>\n",
       "  <tbody>\n",
       "    <tr>\n",
       "      <th>0</th>\n",
       "      <td>David</td>\n",
       "      <td>4</td>\n",
       "      <td>2018-04-02</td>\n",
       "    </tr>\n",
       "    <tr>\n",
       "      <th>1</th>\n",
       "      <td>John</td>\n",
       "      <td>5</td>\n",
       "      <td>2020-09-07</td>\n",
       "    </tr>\n",
       "    <tr>\n",
       "      <th>2</th>\n",
       "      <td>Jonas</td>\n",
       "      <td>6</td>\n",
       "      <td>2022-07-01</td>\n",
       "    </tr>\n",
       "    <tr>\n",
       "      <th>3</th>\n",
       "      <td>Alice</td>\n",
       "      <td>1</td>\n",
       "      <td>2018-04-02</td>\n",
       "    </tr>\n",
       "    <tr>\n",
       "      <th>4</th>\n",
       "      <td>Bob</td>\n",
       "      <td>2</td>\n",
       "      <td>2020-09-07</td>\n",
       "    </tr>\n",
       "    <tr>\n",
       "      <th>5</th>\n",
       "      <td>Charlie</td>\n",
       "      <td>3</td>\n",
       "      <td>2022-07-01</td>\n",
       "    </tr>\n",
       "  </tbody>\n",
       "</table>\n",
       "</div>"
      ],
      "text/plain": [
       "      name  id        date\n",
       "0    David   4  2018-04-02\n",
       "1     John   5  2020-09-07\n",
       "2    Jonas   6  2022-07-01\n",
       "3    Alice   1  2018-04-02\n",
       "4      Bob   2  2020-09-07\n",
       "5  Charlie   3  2022-07-01"
      ]
     },
     "execution_count": 9,
     "metadata": {},
     "output_type": "execute_result"
    }
   ],
   "source": [
    "table.scan().to_pandas()"
   ]
  },
  {
   "cell_type": "markdown",
   "metadata": {},
   "source": [
    "# Table Evolution: Add new column to the table\n",
    "\n",
    "Iceberg allows user to add new column(s) without re-create or re-write the table"
   ]
  },
  {
   "cell_type": "code",
   "execution_count": 10,
   "metadata": {},
   "outputs": [],
   "source": [
    "from pyiceberg.types import StringType, DecimalType\n",
    "\n",
    "with table.update_schema() as update:\n",
    "   # Add new columns\n",
    "   update.add_column(\"comments\", StringType())\n",
    "   update.add_column(\"salary\", DecimalType(9, 3))"
   ]
  },
  {
   "cell_type": "code",
   "execution_count": 11,
   "metadata": {},
   "outputs": [
    {
     "data": {
      "text/plain": [
       "demo_table_1(\n",
       "  1: name: optional string,\n",
       "  2: id: optional int,\n",
       "  3: date: optional date,\n",
       "  4: comments: optional string,\n",
       "  5: salary: optional decimal(9, 3)\n",
       "),\n",
       "partition by: [date_year],\n",
       "sort order: [],\n",
       "snapshot: Operation.APPEND: id=8973395508097198299, parent_id=7769616688498351098, schema_id=0"
      ]
     },
     "execution_count": 11,
     "metadata": {},
     "output_type": "execute_result"
    }
   ],
   "source": [
    "table"
   ]
  },
  {
   "cell_type": "code",
   "execution_count": 12,
   "metadata": {},
   "outputs": [
    {
     "data": {
      "text/html": [
       "<div>\n",
       "<style scoped>\n",
       "    .dataframe tbody tr th:only-of-type {\n",
       "        vertical-align: middle;\n",
       "    }\n",
       "\n",
       "    .dataframe tbody tr th {\n",
       "        vertical-align: top;\n",
       "    }\n",
       "\n",
       "    .dataframe thead th {\n",
       "        text-align: right;\n",
       "    }\n",
       "</style>\n",
       "<table border=\"1\" class=\"dataframe\">\n",
       "  <thead>\n",
       "    <tr style=\"text-align: right;\">\n",
       "      <th></th>\n",
       "      <th>name</th>\n",
       "      <th>id</th>\n",
       "      <th>date</th>\n",
       "      <th>comments</th>\n",
       "      <th>salary</th>\n",
       "    </tr>\n",
       "  </thead>\n",
       "  <tbody>\n",
       "    <tr>\n",
       "      <th>0</th>\n",
       "      <td>David</td>\n",
       "      <td>4</td>\n",
       "      <td>2018-04-02</td>\n",
       "      <td>None</td>\n",
       "      <td>None</td>\n",
       "    </tr>\n",
       "    <tr>\n",
       "      <th>1</th>\n",
       "      <td>John</td>\n",
       "      <td>5</td>\n",
       "      <td>2020-09-07</td>\n",
       "      <td>None</td>\n",
       "      <td>None</td>\n",
       "    </tr>\n",
       "    <tr>\n",
       "      <th>2</th>\n",
       "      <td>Jonas</td>\n",
       "      <td>6</td>\n",
       "      <td>2022-07-01</td>\n",
       "      <td>None</td>\n",
       "      <td>None</td>\n",
       "    </tr>\n",
       "    <tr>\n",
       "      <th>3</th>\n",
       "      <td>Alice</td>\n",
       "      <td>1</td>\n",
       "      <td>2018-04-02</td>\n",
       "      <td>None</td>\n",
       "      <td>None</td>\n",
       "    </tr>\n",
       "    <tr>\n",
       "      <th>4</th>\n",
       "      <td>Bob</td>\n",
       "      <td>2</td>\n",
       "      <td>2020-09-07</td>\n",
       "      <td>None</td>\n",
       "      <td>None</td>\n",
       "    </tr>\n",
       "    <tr>\n",
       "      <th>5</th>\n",
       "      <td>Charlie</td>\n",
       "      <td>3</td>\n",
       "      <td>2022-07-01</td>\n",
       "      <td>None</td>\n",
       "      <td>None</td>\n",
       "    </tr>\n",
       "  </tbody>\n",
       "</table>\n",
       "</div>"
      ],
      "text/plain": [
       "      name  id        date comments salary\n",
       "0    David   4  2018-04-02     None   None\n",
       "1     John   5  2020-09-07     None   None\n",
       "2    Jonas   6  2022-07-01     None   None\n",
       "3    Alice   1  2018-04-02     None   None\n",
       "4      Bob   2  2020-09-07     None   None\n",
       "5  Charlie   3  2022-07-01     None   None"
      ]
     },
     "execution_count": 12,
     "metadata": {},
     "output_type": "execute_result"
    }
   ],
   "source": [
    "table.scan().to_pandas()"
   ]
  },
  {
   "cell_type": "markdown",
   "metadata": {},
   "source": [
    "## TODO: More Possible Topics\n",
    "- Transaction\n",
    "- Time travel\n",
    "- Step-by-step exploration of table update"
   ]
  },
  {
   "cell_type": "markdown",
   "metadata": {},
   "source": [
    "## Interoperability with other engines: Spark\n",
    "\n",
    "Table created by pyiceberg can be consumed by Spark"
   ]
  },
  {
   "cell_type": "code",
   "execution_count": 13,
   "metadata": {},
   "outputs": [],
   "source": [
    "from pyspark.sql import SparkSession\n",
    "\n",
    "spark = (SparkSession.builder\n",
    "  .config(\"spark.sql.extensions\", \"org.apache.iceberg.spark.extensions.IcebergSparkSessionExtensions\")\n",
    "  .config(\"spark.sql.catalog.spark_catalog\", \"org.apache.iceberg.spark.SparkSessionCatalog\")\n",
    "  .config(\"spark.jars.packages\", \"org.apache.iceberg:iceberg-spark-runtime-3.5_2.12:1.8.1,org.apache.iceberg:iceberg-aws-bundle:1.8.1\")\n",
    "  .config(\"spark.sql.catalog.demo.type\", \"rest\")\n",
    "  .config(\"spark.sql.catalog.demo\", \"org.apache.iceberg.spark.SparkCatalog\")  \n",
    "  .config(\"spark.sql.catalog.demo.uri\", \"http://rest:8181\")\n",
    "  .config(\"spark.sql.catalog.demo.io-impl\", \"org.apache.iceberg.aws.s3.S3FileIO\")       \n",
    "  .config(\"spark.sql.catalog.demo.warehouse\", \"s3://warehouse\")\n",
    "  .config(\"spark.sql.catalog.demo.s3.endpoint\", \"http://minio:9000\")\n",
    "  .config(\"spark.sql.catalog.demo.s3.region\", \"us-east-1\")\n",
    "  .config(\"spark.sql.catalog.demo.s3.path-style-access\", \"true\")\n",
    ").getOrCreate()"
   ]
  },
  {
   "cell_type": "code",
   "execution_count": 14,
   "metadata": {},
   "outputs": [
    {
     "name": "stdout",
     "output_type": "stream",
     "text": [
      "+-------+---+----------+--------+------+\n",
      "|   name| id|      date|comments|salary|\n",
      "+-------+---+----------+--------+------+\n",
      "|  Alice|  1|2018-04-02|    NULL|  NULL|\n",
      "|    Bob|  2|2020-09-07|    NULL|  NULL|\n",
      "|Charlie|  3|2022-07-01|    NULL|  NULL|\n",
      "|  David|  4|2018-04-02|    NULL|  NULL|\n",
      "|   John|  5|2020-09-07|    NULL|  NULL|\n",
      "|  Jonas|  6|2022-07-01|    NULL|  NULL|\n",
      "+-------+---+----------+--------+------+\n",
      "\n"
     ]
    }
   ],
   "source": [
    "spark.sql(\"SELECT * FROM demo.demo_ns.demo_table_1\").show()"
   ]
  },
  {
   "cell_type": "code",
   "execution_count": null,
   "metadata": {},
   "outputs": [],
   "source": []
  }
 ],
 "metadata": {
  "kernelspec": {
   "display_name": "Python 3 (ipykernel)",
   "language": "python",
   "name": "python3"
  },
  "language_info": {
   "codemirror_mode": {
    "name": "ipython",
    "version": 3
   },
   "file_extension": ".py",
   "mimetype": "text/x-python",
   "name": "python",
   "nbconvert_exporter": "python",
   "pygments_lexer": "ipython3",
   "version": "3.11.6"
  }
 },
 "nbformat": 4,
 "nbformat_minor": 4
}
